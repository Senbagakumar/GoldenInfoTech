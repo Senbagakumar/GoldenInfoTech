{
 "cells": [
  {
   "cell_type": "code",
   "execution_count": 6,
   "metadata": {},
   "outputs": [
    {
     "name": "stdout",
     "output_type": "stream",
     "text": [
      "0\n",
      "1\n",
      "2\n",
      "3\n",
      "4\n"
     ]
    }
   ],
   "source": [
    "b = range(5)\n",
    "for i in b:\n",
    "    print (i)\n"
   ]
  },
  {
   "cell_type": "code",
   "execution_count": 11,
   "metadata": {},
   "outputs": [
    {
     "name": "stdout",
     "output_type": "stream",
     "text": [
      "3\n",
      "4\n",
      "5\n"
     ]
    }
   ],
   "source": [
    "c = range(3,6,1)\n",
    "for i in c:\n",
    "    print(i)"
   ]
  },
  {
   "cell_type": "code",
   "execution_count": 10,
   "metadata": {},
   "outputs": [
    {
     "name": "stdout",
     "output_type": "stream",
     "text": [
      "4\n",
      "6\n",
      "8\n",
      "10\n",
      "12\n",
      "14\n",
      "16\n",
      "18\n"
     ]
    }
   ],
   "source": [
    "d = range(4,20,2)\n",
    "for i in d:\n",
    "    print(i)"
   ]
  },
  {
   "cell_type": "code",
   "execution_count": 27,
   "metadata": {},
   "outputs": [
    {
     "name": "stdout",
     "output_type": "stream",
     "text": [
      "3=>3\n",
      "5=>5\n",
      "3=>6\n",
      "3=>9\n",
      "5=>10\n",
      "3=>12\n",
      "3=>15\n",
      "5=>15\n",
      "3 and 5=>15\n",
      "3=>18\n",
      "5=>20\n",
      "3=>21\n",
      "3=>24\n",
      "5=>25\n",
      "3=>27\n"
     ]
    }
   ],
   "source": [
    "e=range(3,30)\n",
    "for i in e:\n",
    "    if(i % 3 == 0):\n",
    "        print(\"3=>\"+str(i))\n",
    "    if(i % 5 ==0):\n",
    "        print(\"5=>\"+str(i))\n",
    "    if(i % 3 ==0 and i % 5 == 0):\n",
    "        print(\"3 and 5=>\"+str(i))\n"
   ]
  },
  {
   "cell_type": "code",
   "execution_count": null,
   "metadata": {},
   "outputs": [],
   "source": []
  }
 ],
 "metadata": {
  "kernelspec": {
   "display_name": "Python 3",
   "language": "python",
   "name": "python3"
  },
  "language_info": {
   "codemirror_mode": {
    "name": "ipython",
    "version": 3
   },
   "file_extension": ".py",
   "mimetype": "text/x-python",
   "name": "python",
   "nbconvert_exporter": "python",
   "pygments_lexer": "ipython3",
   "version": "3.7.3"
  }
 },
 "nbformat": 4,
 "nbformat_minor": 2
}
