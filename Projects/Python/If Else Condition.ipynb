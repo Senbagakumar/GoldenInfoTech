{
 "cells": [
  {
   "cell_type": "code",
   "execution_count": 2,
   "metadata": {},
   "outputs": [
    {
     "name": "stdout",
     "output_type": "stream",
     "text": [
      "a is less than b\n",
      "outside if block\n"
     ]
    }
   ],
   "source": [
    "a = 2\n",
    "b = 5\n",
    "\n",
    "if a<b:\n",
    "    print(\"a is less than b\")\n",
    "print(\"outside if block\")"
   ]
  },
  {
   "cell_type": "code",
   "execution_count": 9,
   "metadata": {},
   "outputs": [
    {
     "name": "stdout",
     "output_type": "stream",
     "text": [
      "a is not less than b\n",
      "outside if block\n"
     ]
    }
   ],
   "source": [
    "a = 30\n",
    "b = 20\n",
    "if a<b:\n",
    "    print(\"a is less than b\")\n",
    "else:\n",
    "    print(\"a is not less than b\")\n",
    "print(\"outside if block\")"
   ]
  },
  {
   "cell_type": "code",
   "execution_count": 12,
   "metadata": {},
   "outputs": [
    {
     "name": "stdout",
     "output_type": "stream",
     "text": [
      "a is greater than b\n",
      "outside if condition\n"
     ]
    }
   ],
   "source": [
    "a = 30\n",
    "b = 10\n",
    "if a < b :\n",
    "    print(\"a is less than b\")\n",
    "elif a == b :\n",
    "    print(\"a is equal to b\")\n",
    "else :\n",
    "    print(\"a is greater than b\")\n",
    "print(\"outside if condition\")"
   ]
  },
  {
   "cell_type": "code",
   "execution_count": 17,
   "metadata": {},
   "outputs": [
    {
     "name": "stdout",
     "output_type": "stream",
     "text": [
      "a is greater than b\n",
      "yes it is confirmed, a > b\n",
      "outside first if block\n",
      "outside if block\n"
     ]
    }
   ],
   "source": [
    "a=25\n",
    "b=15\n",
    "if (a < b):\n",
    "    print(\"a is less than b\")\n",
    "else:\n",
    "    if(a==b):\n",
    "        print(\"a is equal to b\")\n",
    "    else:\n",
    "        print(\"a is greater than b\")\n",
    "        print(\"yes it is confirmed, a > b\")\n",
    "    print(\"outside first if block\")\n",
    "print(\"outside if block\")"
   ]
  },
  {
   "cell_type": "code",
   "execution_count": 8,
   "metadata": {},
   "outputs": [
    {
     "name": "stdout",
     "output_type": "stream",
     "text": [
      "2.0\n",
      "you are not a over weight\n"
     ]
    }
   ],
   "source": [
    "height_m=5\n",
    "weight_km=50\n",
    "bmi = weight_km/(height_m**2)\n",
    "print(bmi)\n",
    "if bmi < 25:\n",
    "    print(\"you are not a over weight\")\n",
    "else:\n",
    "    print(\"you are over weight\")"
   ]
  },
  {
   "cell_type": "code",
   "execution_count": null,
   "metadata": {},
   "outputs": [],
   "source": []
  }
 ],
 "metadata": {
  "kernelspec": {
   "display_name": "Python 3",
   "language": "python",
   "name": "python3"
  },
  "language_info": {
   "codemirror_mode": {
    "name": "ipython",
    "version": 3
   },
   "file_extension": ".py",
   "mimetype": "text/x-python",
   "name": "python",
   "nbconvert_exporter": "python",
   "pygments_lexer": "ipython3",
   "version": "3.7.3"
  }
 },
 "nbformat": 4,
 "nbformat_minor": 2
}
