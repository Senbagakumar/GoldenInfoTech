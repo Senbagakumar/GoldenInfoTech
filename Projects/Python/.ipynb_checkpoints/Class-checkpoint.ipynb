{
 "cells": [
  {
   "cell_type": "code",
   "execution_count": 86,
   "metadata": {},
   "outputs": [],
   "source": [
    "class Robot:\n",
    "    length=5\n",
    "    def get_length(self):\n",
    "        print(\"hi\")\n",
    "        print(self.name)\n",
    "        print(self.age)\n",
    "        print(self.location)\n",
    "        print(self.length)"
   ]
  },
  {
   "cell_type": "code",
   "execution_count": 87,
   "metadata": {},
   "outputs": [],
   "source": [
    "r=Robot()\n",
    "r.name='Hellow'\n",
    "r.age=10\n",
    "r.location='Arcot'\n",
    "r1=Robot()\n",
    "r1.name='Hi'\n",
    "r1.age=9\n",
    "r1.location='Vellore'"
   ]
  },
  {
   "cell_type": "code",
   "execution_count": 88,
   "metadata": {},
   "outputs": [
    {
     "name": "stdout",
     "output_type": "stream",
     "text": [
      "hi\n",
      "Hellow\n",
      "10\n",
      "Arcot\n",
      "5\n",
      "hi\n",
      "Hi\n",
      "9\n",
      "Vellore\n",
      "5\n"
     ]
    }
   ],
   "source": [
    "r.get_length()\n",
    "r1.get_length()"
   ]
  },
  {
   "cell_type": "code",
   "execution_count": 98,
   "metadata": {},
   "outputs": [],
   "source": [
    "class Employee:\n",
    "    def __init__(self,name,age):\n",
    "        self.Name=name\n",
    "        self.Age=age\n",
    "    def get_length(self):\n",
    "        print(self.Name)\n",
    "        print(self.Age)\n",
    "    "
   ]
  },
  {
   "cell_type": "code",
   "execution_count": 99,
   "metadata": {},
   "outputs": [
    {
     "name": "stdout",
     "output_type": "stream",
     "text": [
      "senba\n",
      "10\n"
     ]
    }
   ],
   "source": [
    "e1=Employee('senba',10)\n",
    "e1.get_length()\n"
   ]
  },
  {
   "cell_type": "code",
   "execution_count": null,
   "metadata": {},
   "outputs": [],
   "source": []
  }
 ],
 "metadata": {
  "kernelspec": {
   "display_name": "Python 3",
   "language": "python",
   "name": "python3"
  },
  "language_info": {
   "codemirror_mode": {
    "name": "ipython",
    "version": 3
   },
   "file_extension": ".py",
   "mimetype": "text/x-python",
   "name": "python",
   "nbconvert_exporter": "python",
   "pygments_lexer": "ipython3",
   "version": "3.7.3"
  }
 },
 "nbformat": 4,
 "nbformat_minor": 2
}
